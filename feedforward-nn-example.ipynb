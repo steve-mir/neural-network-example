{
 "cells": [
  {
   "cell_type": "code",
   "execution_count": 30,
   "metadata": {},
   "outputs": [],
   "source": [
    "import numpy as np\n",
    "import pandas as pd\n",
    "import matplotlib.pyplot as plt\n",
    "from sklearn.model_selection import train_test_split\n",
    "from sklearn.preprocessing import StandardScaler\n",
    "import tensorflow as tf\n",
    "from imblearn.over_sampling import RandomOverSampler\n"
   ]
  },
  {
   "cell_type": "code",
   "execution_count": 2,
   "metadata": {},
   "outputs": [],
   "source": [
    "df = pd.read_csv(\"diabetes.csv\")"
   ]
  },
  {
   "cell_type": "code",
   "execution_count": 5,
   "metadata": {},
   "outputs": [
    {
     "data": {
      "text/html": [
       "<div>\n",
       "<style scoped>\n",
       "    .dataframe tbody tr th:only-of-type {\n",
       "        vertical-align: middle;\n",
       "    }\n",
       "\n",
       "    .dataframe tbody tr th {\n",
       "        vertical-align: top;\n",
       "    }\n",
       "\n",
       "    .dataframe thead th {\n",
       "        text-align: right;\n",
       "    }\n",
       "</style>\n",
       "<table border=\"1\" class=\"dataframe\">\n",
       "  <thead>\n",
       "    <tr style=\"text-align: right;\">\n",
       "      <th></th>\n",
       "      <th>Pregnancies</th>\n",
       "      <th>Glucose</th>\n",
       "      <th>BloodPressure</th>\n",
       "      <th>SkinThickness</th>\n",
       "      <th>Insulin</th>\n",
       "      <th>BMI</th>\n",
       "      <th>DiabetesPedigreeFunction</th>\n",
       "      <th>Age</th>\n",
       "      <th>Outcome</th>\n",
       "    </tr>\n",
       "  </thead>\n",
       "  <tbody>\n",
       "    <tr>\n",
       "      <th>0</th>\n",
       "      <td>6</td>\n",
       "      <td>148</td>\n",
       "      <td>72</td>\n",
       "      <td>35</td>\n",
       "      <td>0</td>\n",
       "      <td>33.6</td>\n",
       "      <td>0.627</td>\n",
       "      <td>50</td>\n",
       "      <td>1</td>\n",
       "    </tr>\n",
       "    <tr>\n",
       "      <th>1</th>\n",
       "      <td>1</td>\n",
       "      <td>85</td>\n",
       "      <td>66</td>\n",
       "      <td>29</td>\n",
       "      <td>0</td>\n",
       "      <td>26.6</td>\n",
       "      <td>0.351</td>\n",
       "      <td>31</td>\n",
       "      <td>0</td>\n",
       "    </tr>\n",
       "    <tr>\n",
       "      <th>2</th>\n",
       "      <td>8</td>\n",
       "      <td>183</td>\n",
       "      <td>64</td>\n",
       "      <td>0</td>\n",
       "      <td>0</td>\n",
       "      <td>23.3</td>\n",
       "      <td>0.672</td>\n",
       "      <td>32</td>\n",
       "      <td>1</td>\n",
       "    </tr>\n",
       "    <tr>\n",
       "      <th>3</th>\n",
       "      <td>1</td>\n",
       "      <td>89</td>\n",
       "      <td>66</td>\n",
       "      <td>23</td>\n",
       "      <td>94</td>\n",
       "      <td>28.1</td>\n",
       "      <td>0.167</td>\n",
       "      <td>21</td>\n",
       "      <td>0</td>\n",
       "    </tr>\n",
       "    <tr>\n",
       "      <th>4</th>\n",
       "      <td>0</td>\n",
       "      <td>137</td>\n",
       "      <td>40</td>\n",
       "      <td>35</td>\n",
       "      <td>168</td>\n",
       "      <td>43.1</td>\n",
       "      <td>2.288</td>\n",
       "      <td>33</td>\n",
       "      <td>1</td>\n",
       "    </tr>\n",
       "  </tbody>\n",
       "</table>\n",
       "</div>"
      ],
      "text/plain": [
       "   Pregnancies  Glucose  BloodPressure  SkinThickness  Insulin   BMI  \\\n",
       "0            6      148             72             35        0  33.6   \n",
       "1            1       85             66             29        0  26.6   \n",
       "2            8      183             64              0        0  23.3   \n",
       "3            1       89             66             23       94  28.1   \n",
       "4            0      137             40             35      168  43.1   \n",
       "\n",
       "   DiabetesPedigreeFunction  Age  Outcome  \n",
       "0                     0.627   50        1  \n",
       "1                     0.351   31        0  \n",
       "2                     0.672   32        1  \n",
       "3                     0.167   21        0  \n",
       "4                     2.288   33        1  "
      ]
     },
     "execution_count": 5,
     "metadata": {},
     "output_type": "execute_result"
    }
   ],
   "source": [
    "df.head()"
   ]
  },
  {
   "cell_type": "code",
   "execution_count": 11,
   "metadata": {},
   "outputs": [
    {
     "data": {
      "image/png": "[encoded data removed]",
      "text/plain": [
       "<Figure size 432x288 with 1 Axes>"
      ]
     },
     "metadata": {
      "needs_background": "light"
     },
     "output_type": "display_data"
    },
    {
     "data": {
      "image/png": "[encoded data removed]",
      "text/plain": [
       "<Figure size 432x288 with 1 Axes>"
      ]
     },
     "metadata": {
      "needs_background": "light"
     },
     "output_type": "display_data"
    },
    {
     "data": {
      "image/png": "[encoded data removed]",
      "text/plain": [
       "<Figure size 432x288 with 1 Axes>"
      ]
     },
     "metadata": {
      "needs_background": "light"
     },
     "output_type": "display_data"
    },
    {
     "data": {
      "image/png": "[encoded data removed]",
      "text/plain": [
       "<Figure size 432x288 with 1 Axes>"
      ]
     },
     "metadata": {
      "needs_background": "light"
     },
     "output_type": "display_data"
    },
    {
     "data": {
      "image/png": "[encoded data removed]",
      "text/plain": [
       "<Figure size 432x288 with 1 Axes>"
      ]
     },
     "metadata": {
      "needs_background": "light"
     },
     "output_type": "display_data"
    },
    {
     "data": {
      "image/png": "[encoded data removed]",
      "text/plain": [
       "<Figure size 432x288 with 1 Axes>"
      ]
     },
     "metadata": {
      "needs_background": "light"
     },
     "output_type": "display_data"
    },
    {
     "data": {
      "image/png": "[encoded data removed]",
      "text/plain": [
       "<Figure size 432x288 with 1 Axes>"
      ]
     },
     "metadata": {
      "needs_background": "light"
     },
     "output_type": "display_data"
    },
    {
     "data": {
      "image/png": "[encoded data removed]",
      "text/plain": [
       "<Figure size 432x288 with 1 Axes>"
      ]
     },
     "metadata": {
      "needs_background": "light"
     },
     "output_type": "display_data"
    }
   ],
   "source": [
    "for i in range(len(df.columns[:-1])):\n",
    "    label = df.columns[i]\n",
    "    plt.hist(df[df['Outcome'] == 1][label], color='blue', label=\"Diabetes\", alpha=0.7, density=True, bins=15)\n",
    "    plt.hist(df[df['Outcome'] == 0][label], color='red', label=\"No Diabetes\", alpha=0.7, density=True, bins=15)\n",
    "    plt.title(label)\n",
    "    plt.ylabel(\"Probability\")\n",
    "    plt.xlabel(label)\n",
    "    plt.legend()\n",
    "    plt.show()"
   ]
  },
  {
   "cell_type": "code",
   "execution_count": 14,
   "metadata": {},
   "outputs": [],
   "source": [
    "X = df[df.columns[:-1]].values\n",
    "y = df[df.columns[-1]].values"
   ]
  },
  {
   "cell_type": "code",
   "execution_count": 25,
   "metadata": {},
   "outputs": [],
   "source": [
    "# Scale the quantities\n",
    "scaler = StandardScaler()\n",
    "X = scaler.fit_transform(X)\n",
    "data = np.hstack((X, np.reshape(y, (-1,1))))\n",
    "transformed_df = pd.DataFrame(data, columns=df.columns)"
   ]
  },
  {
   "cell_type": "code",
   "execution_count": 32,
   "metadata": {},
   "outputs": [],
   "source": [
    "over =RandomOverSampler()\n",
    "X,y = over.fit_resample(X,y)\n",
    "data = np.hstack((X, np.reshape(y, (-1, 1))))\n",
    "transformed_df = pd.DataFrame(data, columns=df.columns)\n"
   ]
  },
  {
   "cell_type": "code",
   "execution_count": 33,
   "metadata": {},
   "outputs": [
    {
     "data": {
      "text/plain": [
       "(500, 500)"
      ]
     },
     "execution_count": 33,
     "metadata": {},
     "output_type": "execute_result"
    }
   ],
   "source": [
    "len(transformed_df[transformed_df['Outcome'] ==1]), len(transformed_df[transformed_df['Outcome'] ==0])"
   ]
  },
  {
   "cell_type": "code",
   "execution_count": 34,
   "metadata": {},
   "outputs": [],
   "source": [
    "# 60% of data for training\n",
    "# 20% of data for validation\n",
    "# 20% of data for test\n",
    "\n",
    "# Splits the data into training and temp data (60/40)\n",
    "# the temp data is then further divided into test and validation data (50/50)\n",
    "X_train, X_temp, y_train, y_temp = train_test_split(X, y, test_size=0.4, random_state=0)\n",
    "X_valid, X_test, y_valid, y_test = train_test_split(\n",
    "    X_temp, y_temp, test_size=0.5, random_state=0)\n"
   ]
  },
  {
   "cell_type": "code",
   "execution_count": 35,
   "metadata": {},
   "outputs": [],
   "source": [
    "model = tf.keras.Sequential([\n",
    "    tf.keras.layers.Dense(16, activation='relu'), # if x <= 0, x=0. else if x > 0, x = x\n",
    "    tf.keras.layers.Dense(16, activation='relu'),\n",
    "    tf.keras.layers.Dense(1, activation='sigmoid') # binary mapping; if x <= 0, x=0. else if x > 0 x = 1\n",
    "])"
   ]
  },
  {
   "cell_type": "code",
   "execution_count": 36,
   "metadata": {},
   "outputs": [],
   "source": [
    "model.compile(optimizer=tf.keras.optimizers.Adam(learning_rate=0.001),\n",
    "              loss=tf.keras.losses.BinaryCrossentropy(),\n",
    "              metrics=['accuracy'])"
   ]
  },
  {
   "cell_type": "code",
   "execution_count": 37,
   "metadata": {},
   "outputs": [
    {
     "name": "stdout",
     "output_type": "stream",
     "text": [
      "19/19 [==============================] - 1s 10ms/step - loss: 0.7238 - accuracy: 0.4383\n"
     ]
    },
    {
     "data": {
      "text/plain": [
       "[0.723818838596344, 0.43833333253860474]"
      ]
     },
     "execution_count": 37,
     "metadata": {},
     "output_type": "execute_result"
    }
   ],
   "source": [
    "model.evaluate(X_train, y_train)"
   ]
  },
  {
   "cell_type": "code",
   "execution_count": 39,
   "metadata": {},
   "outputs": [
    {
     "name": "stdout",
     "output_type": "stream",
     "text": [
      "Epoch 1/50\n",
      "38/38 [==============================] - 1s 15ms/step - loss: 0.4795 - accuracy: 0.7800 - val_loss: 0.4872 - val_accuracy: 0.7700\n",
      "Epoch 2/50\n",
      "38/38 [==============================] - 0s 10ms/step - loss: 0.4777 - accuracy: 0.7850 - val_loss: 0.4860 - val_accuracy: 0.7800\n",
      "Epoch 3/50\n",
      "38/38 [==============================] - 0s 10ms/step - loss: 0.4763 - accuracy: 0.7833 - val_loss: 0.4829 - val_accuracy: 0.7650\n",
      "Epoch 4/50\n",
      "38/38 [==============================] - 0s 9ms/step - loss: 0.4751 - accuracy: 0.7817 - val_loss: 0.4846 - val_accuracy: 0.7750\n",
      "Epoch 5/50\n",
      "38/38 [==============================] - 0s 10ms/step - loss: 0.4731 - accuracy: 0.7833 - val_loss: 0.4834 - val_accuracy: 0.7700\n",
      "Epoch 6/50\n",
      "38/38 [==============================] - 0s 12ms/step - loss: 0.4720 - accuracy: 0.7850 - val_loss: 0.4827 - val_accuracy: 0.7750\n",
      "Epoch 7/50\n",
      "38/38 [==============================] - 0s 11ms/step - loss: 0.4711 - accuracy: 0.7833 - val_loss: 0.4801 - val_accuracy: 0.7700\n",
      "Epoch 8/50\n",
      "38/38 [==============================] - 0s 11ms/step - loss: 0.4694 - accuracy: 0.7800 - val_loss: 0.4814 - val_accuracy: 0.7700\n",
      "Epoch 9/50\n",
      "38/38 [==============================] - 0s 12ms/step - loss: 0.4692 - accuracy: 0.7900 - val_loss: 0.4802 - val_accuracy: 0.7650\n",
      "Epoch 10/50\n",
      "38/38 [==============================] - 0s 13ms/step - loss: 0.4684 - accuracy: 0.7833 - val_loss: 0.4780 - val_accuracy: 0.7900\n",
      "Epoch 11/50\n",
      "38/38 [==============================] - 1s 14ms/step - loss: 0.4667 - accuracy: 0.7883 - val_loss: 0.4797 - val_accuracy: 0.7850\n",
      "Epoch 12/50\n",
      "38/38 [==============================] - 1s 19ms/step - loss: 0.4655 - accuracy: 0.7817 - val_loss: 0.4760 - val_accuracy: 0.7750\n",
      "Epoch 13/50\n",
      "38/38 [==============================] - 1s 16ms/step - loss: 0.4637 - accuracy: 0.7867 - val_loss: 0.4790 - val_accuracy: 0.7800\n",
      "Epoch 14/50\n",
      "38/38 [==============================] - 0s 13ms/step - loss: 0.4631 - accuracy: 0.7867 - val_loss: 0.4756 - val_accuracy: 0.7850\n",
      "Epoch 15/50\n",
      "38/38 [==============================] - 0s 10ms/step - loss: 0.4615 - accuracy: 0.7900 - val_loss: 0.4778 - val_accuracy: 0.7800\n",
      "Epoch 16/50\n",
      "38/38 [==============================] - 0s 12ms/step - loss: 0.4605 - accuracy: 0.7867 - val_loss: 0.4768 - val_accuracy: 0.7850\n",
      "Epoch 17/50\n",
      "38/38 [==============================] - 0s 10ms/step - loss: 0.4593 - accuracy: 0.7917 - val_loss: 0.4761 - val_accuracy: 0.7800\n",
      "Epoch 18/50\n",
      "38/38 [==============================] - 0s 11ms/step - loss: 0.4582 - accuracy: 0.7917 - val_loss: 0.4773 - val_accuracy: 0.7700\n",
      "Epoch 19/50\n",
      "38/38 [==============================] - 0s 10ms/step - loss: 0.4566 - accuracy: 0.7900 - val_loss: 0.4754 - val_accuracy: 0.7850\n",
      "Epoch 20/50\n",
      "38/38 [==============================] - 0s 11ms/step - loss: 0.4549 - accuracy: 0.7933 - val_loss: 0.4755 - val_accuracy: 0.7700\n",
      "Epoch 21/50\n",
      "38/38 [==============================] - 0s 10ms/step - loss: 0.4539 - accuracy: 0.7950 - val_loss: 0.4747 - val_accuracy: 0.7750\n",
      "Epoch 22/50\n",
      "38/38 [==============================] - 0s 8ms/step - loss: 0.4525 - accuracy: 0.7933 - val_loss: 0.4722 - val_accuracy: 0.7700\n",
      "Epoch 23/50\n",
      "38/38 [==============================] - 0s 9ms/step - loss: 0.4517 - accuracy: 0.7950 - val_loss: 0.4735 - val_accuracy: 0.7750\n",
      "Epoch 24/50\n",
      "38/38 [==============================] - 0s 12ms/step - loss: 0.4517 - accuracy: 0.7867 - val_loss: 0.4753 - val_accuracy: 0.7800\n",
      "Epoch 25/50\n",
      "38/38 [==============================] - 0s 10ms/step - loss: 0.4490 - accuracy: 0.7933 - val_loss: 0.4734 - val_accuracy: 0.7750\n",
      "Epoch 26/50\n",
      "38/38 [==============================] - 0s 10ms/step - loss: 0.4490 - accuracy: 0.7867 - val_loss: 0.4715 - val_accuracy: 0.7700\n",
      "Epoch 27/50\n",
      "38/38 [==============================] - 0s 11ms/step - loss: 0.4474 - accuracy: 0.7917 - val_loss: 0.4729 - val_accuracy: 0.7750\n",
      "Epoch 28/50\n",
      "38/38 [==============================] - 0s 12ms/step - loss: 0.4459 - accuracy: 0.7967 - val_loss: 0.4703 - val_accuracy: 0.7750\n",
      "Epoch 29/50\n",
      "38/38 [==============================] - 0s 13ms/step - loss: 0.4438 - accuracy: 0.7950 - val_loss: 0.4697 - val_accuracy: 0.7750\n",
      "Epoch 30/50\n",
      "38/38 [==============================] - 0s 10ms/step - loss: 0.4429 - accuracy: 0.7950 - val_loss: 0.4689 - val_accuracy: 0.7700\n",
      "Epoch 31/50\n",
      "38/38 [==============================] - 0s 11ms/step - loss: 0.4420 - accuracy: 0.7917 - val_loss: 0.4680 - val_accuracy: 0.7700\n",
      "Epoch 32/50\n",
      "38/38 [==============================] - 1s 17ms/step - loss: 0.4434 - accuracy: 0.7883 - val_loss: 0.4670 - val_accuracy: 0.7750\n",
      "Epoch 33/50\n",
      "38/38 [==============================] - 0s 12ms/step - loss: 0.4396 - accuracy: 0.8000 - val_loss: 0.4680 - val_accuracy: 0.7700\n",
      "Epoch 34/50\n",
      "38/38 [==============================] - 0s 10ms/step - loss: 0.4380 - accuracy: 0.7917 - val_loss: 0.4642 - val_accuracy: 0.7750\n",
      "Epoch 35/50\n",
      "38/38 [==============================] - 0s 11ms/step - loss: 0.4368 - accuracy: 0.8000 - val_loss: 0.4666 - val_accuracy: 0.7800\n",
      "Epoch 36/50\n",
      "38/38 [==============================] - 0s 11ms/step - loss: 0.4369 - accuracy: 0.7967 - val_loss: 0.4649 - val_accuracy: 0.7750\n",
      "Epoch 37/50\n",
      "38/38 [==============================] - 0s 10ms/step - loss: 0.4344 - accuracy: 0.7983 - val_loss: 0.4638 - val_accuracy: 0.7800\n",
      "Epoch 38/50\n",
      "38/38 [==============================] - 0s 10ms/step - loss: 0.4331 - accuracy: 0.7967 - val_loss: 0.4636 - val_accuracy: 0.7800\n",
      "Epoch 39/50\n",
      "38/38 [==============================] - 0s 11ms/step - loss: 0.4318 - accuracy: 0.7950 - val_loss: 0.4628 - val_accuracy: 0.7650\n",
      "Epoch 40/50\n",
      "38/38 [==============================] - 0s 11ms/step - loss: 0.4316 - accuracy: 0.7983 - val_loss: 0.4617 - val_accuracy: 0.7850\n",
      "Epoch 41/50\n",
      "38/38 [==============================] - 0s 10ms/step - loss: 0.4300 - accuracy: 0.7967 - val_loss: 0.4602 - val_accuracy: 0.7850\n",
      "Epoch 42/50\n",
      "38/38 [==============================] - 0s 12ms/step - loss: 0.4281 - accuracy: 0.8000 - val_loss: 0.4591 - val_accuracy: 0.7800\n",
      "Epoch 43/50\n",
      "38/38 [==============================] - 0s 11ms/step - loss: 0.4274 - accuracy: 0.8000 - val_loss: 0.4597 - val_accuracy: 0.7700\n",
      "Epoch 44/50\n",
      "38/38 [==============================] - 0s 11ms/step - loss: 0.4263 - accuracy: 0.7967 - val_loss: 0.4594 - val_accuracy: 0.7800\n",
      "Epoch 45/50\n",
      "38/38 [==============================] - 0s 10ms/step - loss: 0.4252 - accuracy: 0.8000 - val_loss: 0.4604 - val_accuracy: 0.7800\n",
      "Epoch 46/50\n",
      "38/38 [==============================] - 0s 10ms/step - loss: 0.4240 - accuracy: 0.8000 - val_loss: 0.4560 - val_accuracy: 0.7850\n",
      "Epoch 47/50\n",
      "38/38 [==============================] - 0s 11ms/step - loss: 0.4212 - accuracy: 0.7950 - val_loss: 0.4576 - val_accuracy: 0.7700\n",
      "Epoch 48/50\n",
      "38/38 [==============================] - 0s 9ms/step - loss: 0.4198 - accuracy: 0.7967 - val_loss: 0.4564 - val_accuracy: 0.7750\n",
      "Epoch 49/50\n",
      "38/38 [==============================] - 0s 9ms/step - loss: 0.4195 - accuracy: 0.7950 - val_loss: 0.4572 - val_accuracy: 0.7900\n",
      "Epoch 50/50\n",
      "38/38 [==============================] - 0s 11ms/step - loss: 0.4177 - accuracy: 0.8050 - val_loss: 0.4552 - val_accuracy: 0.7750\n"
     ]
    },
    {
     "data": {
      "text/plain": [
       "<keras.callbacks.History at 0x7f623cce5700>"
      ]
     },
     "execution_count": 39,
     "metadata": {},
     "output_type": "execute_result"
    }
   ],
   "source": [
    "model.fit(X_train, y_train, batch_size=16, epochs=20, validation_data=(X_valid, y_valid),)"
   ]
  },
  {
   "cell_type": "code",
   "execution_count": 40,
   "metadata": {},
   "outputs": [
    {
     "name": "stdout",
     "output_type": "stream",
     "text": [
      "7/7 [==============================] - 0s 5ms/step - loss: 0.4328 - accuracy: 0.8150\n"
     ]
    },
    {
     "data": {
      "text/plain": [
       "[0.43280738592147827, 0.8149999976158142]"
      ]
     },
     "execution_count": 40,
     "metadata": {},
     "output_type": "execute_result"
    }
   ],
   "source": [
    "model.evaluate(X_test, y_test)"
   ]
  },
  {
   "cell_type": "code",
   "execution_count": null,
   "metadata": {},
   "outputs": [],
   "source": []
  }
 ],
 "metadata": {
  "kernelspec": {
   "display_name": "Python 3",
   "language": "python",
   "name": "python3"
  },
  "language_info": {
   "codemirror_mode": {
    "name": "ipython",
    "version": 3
   },
   "file_extension": ".py",
   "mimetype": "text/x-python",
   "name": "python",
   "nbconvert_exporter": "python",
   "pygments_lexer": "ipython3",
   "version": "3.9.2"
  },
  "orig_nbformat": 4,
  "vscode": {
   "interpreter": {
    "hash": "916dbcbb3f70747c44a77c7bcd40155683ae19c65e1c03b4aa3499c5328201f1"
   }
  }
 },
 "nbformat": 4,
 "nbformat_minor": 2
}
